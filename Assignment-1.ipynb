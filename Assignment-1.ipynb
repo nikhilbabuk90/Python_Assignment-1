{
 "cells": [
  {
   "cell_type": "markdown",
   "id": "d1b74876",
   "metadata": {},
   "source": [
    "## 1. Write a Python Program to accept the details of a student like name, roll number and mark and display it."
   ]
  },
  {
   "cell_type": "code",
   "execution_count": 7,
   "id": "c598ec30",
   "metadata": {},
   "outputs": [
    {
     "name": "stdout",
     "output_type": "stream",
     "text": [
      "Enter the name : Anisha\n",
      "Enter the roll number : 23\n",
      "Enter the mark : 98\n",
      "Name : Anisha\n",
      "Roll Number : 23\n",
      "Mark : 98\n"
     ]
    }
   ],
   "source": [
    "Student_name = input(\"Enter the name : \")               #Taking name from user\n",
    "Roll_Number = input (\"Enter the roll number : \")        #Taking Roll number from user \n",
    "Mark = input (\"Enter the mark : \")                      #Taking mark from user\n",
    "print(\"Name : \"+Student_name, \"Roll Number : \"+Roll_Number, \"Mark : \"+Mark, sep='\\n')    #Printing the details\n"
   ]
  },
  {
   "cell_type": "markdown",
   "id": "26617e6a",
   "metadata": {},
   "source": [
    "## 2. Write a Python program to convert temperatures to and from Celsius Fahrenheit"
   ]
  },
  {
   "cell_type": "code",
   "execution_count": 11,
   "id": "4b4a90e1",
   "metadata": {},
   "outputs": [
    {
     "name": "stdout",
     "output_type": "stream",
     "text": [
      "Temperature in Fahrenheit 69\n",
      "Temperature in Fahrenheit = 69.0 \n",
      "Temperature in Celsius =  21\n"
     ]
    }
   ],
   "source": [
    "Temp_Far = float(input(\"Temperature in Fahrenheit \"))                #Taking input from user\n",
    "Temp_Deg = round((Temp_Far-32)*(5/9))                                #Conversion formula, round off value\n",
    "print(\"Temperature in Fahrenheit =\",Temp_Far,\"\\nTemperature in Celsius = \",Temp_Deg)  #Printing the results\n"
   ]
  },
  {
   "cell_type": "markdown",
   "id": "407f943e",
   "metadata": {},
   "source": [
    "## 3. Write a Python program to accept two numbers from the user and display its product"
   ]
  },
  {
   "cell_type": "code",
   "execution_count": 13,
   "id": "42ab6c9c",
   "metadata": {},
   "outputs": [
    {
     "name": "stdout",
     "output_type": "stream",
     "text": [
      "Enter First Number 58.3\n",
      "Enter Second Number 693\n",
      "Product of Given numbers =  40401.9\n"
     ]
    }
   ],
   "source": [
    "First_Num = float(input(\"Enter First Number \"))         #Taking first number from user\n",
    "Second_Num = float(input(\"Enter Second Number \"))       #Taking Second number from user\n",
    "Product_Num = First_Num * Second_Num                    #Finding the product of two numbers\n",
    "print(\"Product of Given numbers = \",Product_Num)        #Printing the results"
   ]
  },
  {
   "cell_type": "markdown",
   "id": "d8f91b60",
   "metadata": {},
   "source": [
    "## 4. Write a Python program to accept a string “Learn Python by Developing a Website”\n",
    "## and display the string like “Learn**Python** by Developing a **Website**”\n"
   ]
  },
  {
   "cell_type": "code",
   "execution_count": 9,
   "id": "8accb8b3",
   "metadata": {},
   "outputs": [
    {
     "name": "stdout",
     "output_type": "stream",
     "text": [
      "Learn**Python**by Developing a**Website**\n"
     ]
    }
   ],
   "source": [
    "print(\"Learn\",\"Python\",\"by Developing a\",\"Website\",\"\", sep=\"**\") #Printed with \"sep\" key word"
   ]
  },
  {
   "cell_type": "markdown",
   "id": "e0c15f94",
   "metadata": {},
   "source": [
    "## 5. Write a Python program to accept the radius of a circle and display its area"
   ]
  },
  {
   "cell_type": "code",
   "execution_count": 10,
   "id": "0a924f89",
   "metadata": {},
   "outputs": [
    {
     "name": "stdout",
     "output_type": "stream",
     "text": [
      "Enter the Radius : 6\n",
      "Area of the circle =  113.0973\n"
     ]
    }
   ],
   "source": [
    "import math                                    #Importing the Library\n",
    "Radius = float(input(\"Enter the Radius : \"))   #Taking radius value as input\n",
    "Area = round(math.pi*(Radius*Radius),4)        #Area calculation\n",
    "print(\"Area of the circle = \",Area)            #Printing the results"
   ]
  },
  {
   "cell_type": "markdown",
   "id": "05292da2",
   "metadata": {},
   "source": [
    "## 6. Python program to insert a number to any position in a list (Get the number to be inserted and position from the user)"
   ]
  },
  {
   "cell_type": "code",
   "execution_count": 13,
   "id": "70480bca",
   "metadata": {},
   "outputs": [
    {
     "name": "stdout",
     "output_type": "stream",
     "text": [
      "Enter the number : 85\n",
      "Enter the position: 6\n",
      "Updated List is : [12, 9, 8, 3, 85]\n"
     ]
    }
   ],
   "source": [
    "Mylist = [12,9,8,3]                          #Defining the list\n",
    "value = int(input(\"Enter the number : \"))    #Taking input from the user\n",
    "position = int(input(\"Enter the position: \")) #Taking position\n",
    "position1 = position - 1                   #Converting position value to index number\n",
    "Mylist.insert(position1, value)           #Inerting value in the specified position\n",
    "print(\"Updated List is :\",Mylist)         #Printing the updated list"
   ]
  },
  {
   "cell_type": "markdown",
   "id": "47d5ba2b",
   "metadata": {},
   "source": [
    "## 7. Write a program to rename a key city to a location in the following dictionary.\n",
    "## sample_dict = { \"name\": \"John\", \"age\":5, \"salary\": 8000, \"city\": \"New York\"}"
   ]
  },
  {
   "cell_type": "code",
   "execution_count": 19,
   "id": "ecb94a13",
   "metadata": {},
   "outputs": [
    {
     "name": "stdout",
     "output_type": "stream",
     "text": [
      "final dictionary {'name': 'John', 'age': 5, 'salary': 8000, 'city': 'New York', 'location': 'New York'}\n"
     ]
    }
   ],
   "source": [
    "sample_dict = { \"name\": \"John\", \"age\":5, \"salary\": 8000, \"city\": \"New York\"}  #Given dictionary\n",
    "sample_dict[\"location\"] = sample_dict[\"city\"]     #Replacing with given value\n",
    "print(\"final dictionary\", sample_dict)            #Printing the updated dictionary"
   ]
  },
  {
   "cell_type": "markdown",
   "id": "8ea99a35",
   "metadata": {},
   "source": [
    "## 8. Write a Python program to change Brad’s salary to 8500 in the following dictionary."
   ]
  },
  {
   "cell_type": "code",
   "execution_count": 23,
   "id": "76174ea1",
   "metadata": {},
   "outputs": [
    {
     "name": "stdout",
     "output_type": "stream",
     "text": [
      "Updated Dictionary:  {'emp1': {'name': 'John', 'salary': 7500}, 'emp2': {'name': 'Emma', 'salary': 8500}, 'emp3': {'name': 'Brad', 'salary': 500}}\n"
     ]
    }
   ],
   "source": [
    "sample_dict = {\n",
    "'emp1': {'name': 'John', 'salary': 7500},\n",
    "'emp2': {'name': 'Emma', 'salary': 8000},\n",
    "'emp3': {'name': 'Brad', 'salary': 500}\n",
    "}                                                    #Given Input\n",
    "sample_dict['emp2']['salary'] = 8500                 #Value updated with the given value\n",
    "print(\"Updated Dictionary: \",sample_dict)            #Updated Dictionary"
   ]
  },
  {
   "cell_type": "markdown",
   "id": "4b6640e7",
   "metadata": {},
   "source": [
    "## 9. Write a program to copy elements 43 and 54 from the following tuple into a new tuple. Given:\n",
    "## tuple1 = (10, 20, 43, 54, 56, 68)"
   ]
  },
  {
   "cell_type": "code",
   "execution_count": 25,
   "id": "b38ddc9b",
   "metadata": {},
   "outputs": [
    {
     "name": "stdout",
     "output_type": "stream",
     "text": [
      "New Tuple : (43, 54)\n"
     ]
    }
   ],
   "source": [
    "tuple1 = (10, 20, 43, 54, 56, 68)     #given input\n",
    "tuple2 = tuple1[2:4]                  #Tuple slicing for given result\n",
    "print(\"New Tuple :\", tuple2)         #Printing the result"
   ]
  },
  {
   "cell_type": "markdown",
   "id": "f229d7ad",
   "metadata": {},
   "source": [
    "## 10. Counts the number of occurrences of item 50 from a tuple\n",
    "## tuple1 = (50, 10, 60, 70, 50,83,567,50,81)"
   ]
  },
  {
   "cell_type": "code",
   "execution_count": 27,
   "id": "7d2ea5eb",
   "metadata": {},
   "outputs": [
    {
     "name": "stdout",
     "output_type": "stream",
     "text": [
      "Number of occurance of 50 is : 3\n"
     ]
    }
   ],
   "source": [
    "tuple1 = (50, 10, 60, 70, 50,83,567,50,81)    #Given input\n",
    "print(\"Number of occurance of 50 is :\", tuple1.count(50))   #counting the occurance"
   ]
  },
  {
   "cell_type": "code",
   "execution_count": null,
   "id": "c534b1e1",
   "metadata": {},
   "outputs": [],
   "source": []
  }
 ],
 "metadata": {
  "kernelspec": {
   "display_name": "Python 3 (ipykernel)",
   "language": "python",
   "name": "python3"
  },
  "language_info": {
   "codemirror_mode": {
    "name": "ipython",
    "version": 3
   },
   "file_extension": ".py",
   "mimetype": "text/x-python",
   "name": "python",
   "nbconvert_exporter": "python",
   "pygments_lexer": "ipython3",
   "version": "3.10.9"
  }
 },
 "nbformat": 4,
 "nbformat_minor": 5
}
