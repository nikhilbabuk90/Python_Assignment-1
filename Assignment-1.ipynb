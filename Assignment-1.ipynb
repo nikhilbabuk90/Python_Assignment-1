{
 "cells": [
  {
   "cell_type": "markdown",
   "id": "d1b74876",
   "metadata": {},
   "source": [
    "## 1. Write a Python Program to accept the details of a student like name, roll number and mark and display it."
   ]
  },
  {
   "cell_type": "code",
   "execution_count": 7,
   "id": "c598ec30",
   "metadata": {},
   "outputs": [
    {
     "name": "stdout",
     "output_type": "stream",
     "text": [
      "Enter the name : Anisha\n",
      "Enter the roll number : 23\n",
      "Enter the mark : 98\n",
      "Name : Anisha\n",
      "Roll Number : 23\n",
      "Mark : 98\n"
     ]
    }
   ],
   "source": [
    "Student_name = input(\"Enter the name : \")               #Taking name from user\n",
    "Roll_Number = input (\"Enter the roll number : \")        #Taking Roll number from user \n",
    "Mark = input (\"Enter the mark : \")                      #Taking mark from user\n",
    "print(\"Name : \"+Student_name, \"Roll Number : \"+Roll_Number, \"Mark : \"+Mark, sep='\\n')    #Printing the details\n"
   ]
  },
  {
   "cell_type": "markdown",
   "id": "26617e6a",
   "metadata": {},
   "source": [
    "## 2. Write a Python program to convert temperatures to and from Celsius Fahrenheit"
   ]
  },
  {
   "cell_type": "code",
   "execution_count": 11,
   "id": "4b4a90e1",
   "metadata": {},
   "outputs": [
    {
     "name": "stdout",
     "output_type": "stream",
     "text": [
      "Temperature in Fahrenheit 69\n",
      "Temperature in Fahrenheit = 69.0 \n",
      "Temperature in Celsius =  21\n"
     ]
    }
   ],
   "source": [
    "Temp_Far = float(input(\"Temperature in Fahrenheit \"))                #Taking input from user\n",
    "Temp_Deg = round((Temp_Far-32)*(5/9))                                #Conversion formula, round off value\n",
    "print(\"Temperature in Fahrenheit =\",Temp_Far,\"\\nTemperature in Celsius = \",Temp_Deg)  #Printing the results\n"
   ]
  },
  {
   "cell_type": "markdown",
   "id": "407f943e",
   "metadata": {},
   "source": [
    "## 3. Write a Python program to accept two numbers from the user and display its product"
   ]
  },
  {
   "cell_type": "code",
   "execution_count": 13,
   "id": "42ab6c9c",
   "metadata": {},
   "outputs": [
    {
     "name": "stdout",
     "output_type": "stream",
     "text": [
      "Enter First Number 58.3\n",
      "Enter Second Number 693\n",
      "Product of Given numbers =  40401.9\n"
     ]
    }
   ],
   "source": [
    "First_Num = float(input(\"Enter First Number \"))         #Taking first number from user\n",
    "Second_Num = float(input(\"Enter Second Number \"))       #Taking Second number from user\n",
    "Product_Num = First_Num * Second_Num                    #Finding the product of two numbers\n",
    "print(\"Product of Given numbers = \",Product_Num)        #Printing the results"
   ]
  },
  {
   "cell_type": "markdown",
   "id": "d8f91b60",
   "metadata": {},
   "source": [
    "## 4. Write a Python program to accept a string “Learn Python by Developing a Website”\n",
    "## and display the string like “Learn**Python** by Developing a **Website**”\n"
   ]
  },
  {
   "cell_type": "code",
   "execution_count": 14,
   "id": "8accb8b3",
   "metadata": {},
   "outputs": [
    {
     "name": "stdout",
     "output_type": "stream",
     "text": [
      "Enter the Word: Learn Python by Developing a Website\n",
      "Learn Python by Developing a Website\n"
     ]
    }
   ],
   "source": [
    "str1 = input(\"Enter the Word: \")\n",
    "print(str1, sep=\"**\")"
   ]
  },
  {
   "cell_type": "markdown",
   "id": "e0c15f94",
   "metadata": {},
   "source": [
    "## 5. Write a Python program to accept the radius of a circle and display its area"
   ]
  },
  {
   "cell_type": "code",
   "execution_count": 16,
   "id": "0a924f89",
   "metadata": {},
   "outputs": [
    {
     "name": "stdout",
     "output_type": "stream",
     "text": [
      "Enter the Radius : 10\n",
      "Area of the circle =  314.1593\n"
     ]
    }
   ],
   "source": [
    "import math                                    #Importing the Library\n",
    "Radius = float(input(\"Enter the Radius : \"))   #Taking radius value as input\n",
    "Area = round(math.pi*(Radius*Radius),4)        #Area calculation\n",
    "print(\"Area of the circle = \",Area)            #Printing the results"
   ]
  },
  {
   "cell_type": "code",
   "execution_count": null,
   "id": "f681ed40",
   "metadata": {},
   "outputs": [],
   "source": []
  }
 ],
 "metadata": {
  "kernelspec": {
   "display_name": "Python 3 (ipykernel)",
   "language": "python",
   "name": "python3"
  },
  "language_info": {
   "codemirror_mode": {
    "name": "ipython",
    "version": 3
   },
   "file_extension": ".py",
   "mimetype": "text/x-python",
   "name": "python",
   "nbconvert_exporter": "python",
   "pygments_lexer": "ipython3",
   "version": "3.10.9"
  }
 },
 "nbformat": 4,
 "nbformat_minor": 5
}
